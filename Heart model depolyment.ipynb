{
 "cells": [
  {
   "cell_type": "code",
   "execution_count": 1,
   "id": "6b051e98",
   "metadata": {},
   "outputs": [],
   "source": [
    "import numpy as np\n",
    "import pandas as pd\n",
    "import warnings\n",
    "warnings.filterwarnings('ignore')"
   ]
  },
  {
   "cell_type": "code",
   "execution_count": 2,
   "id": "16c2c113",
   "metadata": {},
   "outputs": [],
   "source": [
    "m = pd.read_pickle('reviewClassifier.pkl')"
   ]
  },
  {
   "cell_type": "code",
   "execution_count": 3,
   "id": "ba046d93",
   "metadata": {},
   "outputs": [
    {
     "data": {
      "text/plain": [
       "SVC()"
      ]
     },
     "execution_count": 3,
     "metadata": {},
     "output_type": "execute_result"
    }
   ],
   "source": [
    "m"
   ]
  },
  {
   "cell_type": "code",
   "execution_count": 4,
   "id": "4d428749",
   "metadata": {},
   "outputs": [
    {
     "name": "stdout",
     "output_type": "stream",
     "text": [
      "enter the Age:67\n",
      "enter the Sex :1\n",
      "enter the Chestpaintype:4\n",
      "enter the BP:160\n",
      "enter the Cholesterol:286\n",
      "enter the FBSover120:0\n",
      "enter the EKGresults:2\n",
      "enter the MaxHR:108\n",
      "enter the Exerciseangina:1\n",
      "enter the SlopeofST:2\n",
      "enter the Numberofvesselsfluro:3\n",
      "enter the Thallium:3\n",
      "enter the MaxHR:108\n"
     ]
    }
   ],
   "source": [
    "Age = eval(input('enter the Age:'))\n",
    "Sex = eval(input('enter the Sex :'))\n",
    "Chestpaintype = eval(input('enter the Chestpaintype:'))\n",
    "BP= eval(input('enter the BP:'))\n",
    "Cholesterol = eval(input('enter the Cholesterol:'))\n",
    "FBSover120 = eval(input('enter the FBSover120:'))\n",
    "EKGresults= eval(input('enter the EKGresults:'))\n",
    "MaxHR = eval(input('enter the MaxHR:'))\n",
    "Exerciseangina= eval(input('enter the Exerciseangina:'))\n",
    "#STdepression= eval(input('enter the STdepression:'))\n",
    "SlopeofST = eval(input('enter the SlopeofST:'))\n",
    "Numberofvesselsfluro = eval(input('enter the Numberofvesselsfluro:'))\n",
    "Thallium = eval(input('enter the Thallium:'))\n",
    "MaxHR = eval(input('enter the MaxHR:'))\n",
    "\n",
    "\n",
    "query = pd.DataFrame({'Age':[Age],'Sex':[Sex],'Chestpaintype':[Chestpaintype],'BP':[BP],'Cholesterol':[Cholesterol],'FBSover120':[FBSover120],'EKGresults':[EKGresults],'MaxHR':[MaxHR],'Exerciseangina':[Exerciseangina],'SlopeofST':[SlopeofST],'Numberofvesselsfluro':[Numberofvesselsfluro],'Thallium':[Thallium],'MaxHR':[MaxHR]})"
   ]
  },
  {
   "cell_type": "markdown",
   "id": "355456ac",
   "metadata": {},
   "source": [
    "#### query"
   ]
  },
  {
   "cell_type": "code",
   "execution_count": 7,
   "id": "d1a481ce",
   "metadata": {},
   "outputs": [
    {
     "data": {
      "text/html": [
       "<div>\n",
       "<style scoped>\n",
       "    .dataframe tbody tr th:only-of-type {\n",
       "        vertical-align: middle;\n",
       "    }\n",
       "\n",
       "    .dataframe tbody tr th {\n",
       "        vertical-align: top;\n",
       "    }\n",
       "\n",
       "    .dataframe thead th {\n",
       "        text-align: right;\n",
       "    }\n",
       "</style>\n",
       "<table border=\"1\" class=\"dataframe\">\n",
       "  <thead>\n",
       "    <tr style=\"text-align: right;\">\n",
       "      <th></th>\n",
       "      <th>Age</th>\n",
       "      <th>Sex</th>\n",
       "      <th>Chestpaintype</th>\n",
       "      <th>BP</th>\n",
       "      <th>Cholesterol</th>\n",
       "      <th>FBSover120</th>\n",
       "      <th>EKGresults</th>\n",
       "      <th>MaxHR</th>\n",
       "      <th>Exerciseangina</th>\n",
       "      <th>SlopeofST</th>\n",
       "      <th>Numberofvesselsfluro</th>\n",
       "      <th>Thallium</th>\n",
       "    </tr>\n",
       "  </thead>\n",
       "  <tbody>\n",
       "    <tr>\n",
       "      <th>0</th>\n",
       "      <td>67</td>\n",
       "      <td>1</td>\n",
       "      <td>4</td>\n",
       "      <td>160</td>\n",
       "      <td>286</td>\n",
       "      <td>0</td>\n",
       "      <td>2</td>\n",
       "      <td>108</td>\n",
       "      <td>1</td>\n",
       "      <td>2</td>\n",
       "      <td>3</td>\n",
       "      <td>3</td>\n",
       "    </tr>\n",
       "  </tbody>\n",
       "</table>\n",
       "</div>"
      ],
      "text/plain": [
       "   Age  Sex  Chestpaintype   BP  Cholesterol  FBSover120  EKGresults  MaxHR  \\\n",
       "0   67    1              4  160          286           0           2    108   \n",
       "\n",
       "   Exerciseangina  SlopeofST  Numberofvesselsfluro  Thallium  \n",
       "0               1          2                     3         3  "
      ]
     },
     "execution_count": 7,
     "metadata": {},
     "output_type": "execute_result"
    }
   ],
   "source": [
    "query\n"
   ]
  },
  {
   "cell_type": "code",
   "execution_count": 9,
   "id": "dcfbe311",
   "metadata": {},
   "outputs": [
    {
     "data": {
      "text/plain": [
       "array(['Absence'], dtype=object)"
      ]
     },
     "execution_count": 9,
     "metadata": {},
     "output_type": "execute_result"
    }
   ],
   "source": [
    "m.predict(query)"
   ]
  },
  {
   "cell_type": "code",
   "execution_count": null,
   "id": "772995ad",
   "metadata": {},
   "outputs": [],
   "source": []
  },
  {
   "cell_type": "code",
   "execution_count": null,
   "id": "6bb2512d",
   "metadata": {},
   "outputs": [],
   "source": []
  },
  {
   "cell_type": "code",
   "execution_count": null,
   "id": "37d48ed9",
   "metadata": {},
   "outputs": [],
   "source": []
  }
 ],
 "metadata": {
  "kernelspec": {
   "display_name": "Python 3 (ipykernel)",
   "language": "python",
   "name": "python3"
  },
  "language_info": {
   "codemirror_mode": {
    "name": "ipython",
    "version": 3
   },
   "file_extension": ".py",
   "mimetype": "text/x-python",
   "name": "python",
   "nbconvert_exporter": "python",
   "pygments_lexer": "ipython3",
   "version": "3.9.12"
  }
 },
 "nbformat": 4,
 "nbformat_minor": 5
}
